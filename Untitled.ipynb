{
 "cells": [
  {
   "cell_type": "code",
   "execution_count": null,
   "metadata": {},
   "outputs": [],
   "source": [
    "# [{'sequence': '<s> Тарас Шевченко – великий українсьский поет.</s>',\n",
    "#   'score': 0.48607954382896423,\n",
    "#   'token': 11426},\n",
    "#  {'sequence': '<s> Тарас Шевченко – великий українсьский письменник.</s>',\n",
    "#   'score': 0.23330871760845184,\n",
    "#   'token': 10121},\n",
    "#  {'sequence': '<s> Тарас Шевченко – великий українсьский художник.</s>',\n",
    "#   'score': 0.06583040952682495,\n",
    "#   'token': 12836},\n",
    "#  {'sequence': '<s> Тарас Шевченко – великий українсьский князь.</s>',\n",
    "#   'score': 0.021497823297977448,\n",
    "#   'token': 17247},\n",
    "#  {'sequence': '<s> Тарас Шевченко – великий українсьский народ.</s>',\n",
    "#   'score': 0.020411811769008636,\n",
    "#   'token': 1021}]"
   ]
  }
 ],
 "metadata": {
  "kernelspec": {
   "display_name": "language-detection",
   "language": "python",
   "name": "language-detection"
  },
  "language_info": {
   "codemirror_mode": {
    "name": "ipython",
    "version": 3
   },
   "file_extension": ".py",
   "mimetype": "text/x-python",
   "name": "python",
   "nbconvert_exporter": "python",
   "pygments_lexer": "ipython3",
   "version": "3.6.10"
  }
 },
 "nbformat": 4,
 "nbformat_minor": 4
}
